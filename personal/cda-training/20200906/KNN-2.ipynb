version https://git-lfs.github.com/spec/v1
oid sha256:8e66b01169a54385e32ad7a334cc02e53b6b76c46313e25468de77c62b1c27da
size 283003
