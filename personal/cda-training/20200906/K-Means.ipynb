version https://git-lfs.github.com/spec/v1
oid sha256:a747577e138bde610554a0ce42f2eb60022aec126960efb3a1f4fd735e73f0d3
size 322761
