version https://git-lfs.github.com/spec/v1
oid sha256:10067a54a1823c340b3c292680bd4c1d3e346910c00c25f6c1bf3ffe3fb5b6b7
size 1165721
