version https://git-lfs.github.com/spec/v1
oid sha256:49befa71231b60b16800044f282f4d313b77ea554ff5903cc79d3274f5bd2e45
size 142722
