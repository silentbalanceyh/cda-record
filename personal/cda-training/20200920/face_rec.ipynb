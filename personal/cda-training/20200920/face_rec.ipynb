version https://git-lfs.github.com/spec/v1
oid sha256:97a9648a7ada6064b3ab347996600ab99bb6d5d6ff4b2474b3a1cb6effcccca2
size 3169
