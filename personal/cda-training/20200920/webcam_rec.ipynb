version https://git-lfs.github.com/spec/v1
oid sha256:e3e730d507cf181609953edc115e136ccff3ce0dd5cfc92286a3a2000b969be8
size 5083
