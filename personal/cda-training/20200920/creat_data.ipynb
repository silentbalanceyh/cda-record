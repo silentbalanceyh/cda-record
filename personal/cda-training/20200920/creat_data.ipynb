version https://git-lfs.github.com/spec/v1
oid sha256:f9e5b8da1c9864f6c10f8024aff7409b5cd05b59fb454db85a388799dbd4379c
size 3057
