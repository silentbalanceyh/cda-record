version https://git-lfs.github.com/spec/v1
oid sha256:adc559360e9cc5cd7ec748e15ccc24fa69a86d677af0385b9b7a61ece6bdc0d7
size 41934
