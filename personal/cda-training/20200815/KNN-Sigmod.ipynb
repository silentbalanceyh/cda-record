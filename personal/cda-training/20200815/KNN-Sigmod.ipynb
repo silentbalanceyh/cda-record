version https://git-lfs.github.com/spec/v1
oid sha256:a0b177fcd87ad1704e3061859215b87d122faf189e3d57108dfdce089fed3b6a
size 864
