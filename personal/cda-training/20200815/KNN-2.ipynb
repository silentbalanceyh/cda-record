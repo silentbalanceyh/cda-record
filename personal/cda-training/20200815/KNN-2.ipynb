version https://git-lfs.github.com/spec/v1
oid sha256:d4696d3d3220146c51e8bd4d719cea71d25c41997b6fcc55e0296ef4986da008
size 283003
