version https://git-lfs.github.com/spec/v1
oid sha256:92200a3ee4b8b0a416a949a17780051793e22b84aa86ab3575b7d4ad40935c07
size 505969
