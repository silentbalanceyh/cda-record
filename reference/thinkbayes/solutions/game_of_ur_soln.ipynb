version https://git-lfs.github.com/spec/v1
oid sha256:5c54aad643076452cdb115bb70a288cfb6691cea20a63a2615c0ab85888747a4
size 32527
