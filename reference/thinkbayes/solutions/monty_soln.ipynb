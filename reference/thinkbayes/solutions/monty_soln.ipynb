version https://git-lfs.github.com/spec/v1
oid sha256:69de8240d0016333cb96ea7be05c09ddba5cf9fd1632437d2eb11fc10b3401b7
size 4328
