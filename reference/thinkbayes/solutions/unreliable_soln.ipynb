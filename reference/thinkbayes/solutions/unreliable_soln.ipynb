version https://git-lfs.github.com/spec/v1
oid sha256:9420559bb7d68184556f3cc4018b1538fa51397895838e1a6327b9a91ffc5241
size 11613
