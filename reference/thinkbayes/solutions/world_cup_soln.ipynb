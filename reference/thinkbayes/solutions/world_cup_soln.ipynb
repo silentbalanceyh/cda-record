version https://git-lfs.github.com/spec/v1
oid sha256:98b68b340b5529d41e9fa5a6305fa5a2c4fc51543abf8f7a8d459645ab290cc8
size 2268
