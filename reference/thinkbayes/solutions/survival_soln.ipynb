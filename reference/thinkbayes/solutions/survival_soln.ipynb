version https://git-lfs.github.com/spec/v1
oid sha256:40606401e1ca0c003ad193c4520fa95a1b248fa9975808f2968a8adb32c05e0e
size 182976
