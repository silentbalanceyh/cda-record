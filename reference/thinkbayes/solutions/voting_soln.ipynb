version https://git-lfs.github.com/spec/v1
oid sha256:0022c80a81512132d069887addb57d8e13c074664699a86d50b6c721d296327c
size 11073
