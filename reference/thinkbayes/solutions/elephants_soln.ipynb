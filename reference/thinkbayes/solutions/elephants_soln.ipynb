version https://git-lfs.github.com/spec/v1
oid sha256:571f4296612db2652147ea84c3cbe442e16335b1fc5099ffa88dd9b1a37d1acd
size 26244
