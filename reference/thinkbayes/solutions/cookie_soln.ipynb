version https://git-lfs.github.com/spec/v1
oid sha256:535f4c0fcbb37bb5b4d24c14fbd8e6ee3325933ab5774f67fac9edede1e4a37c
size 6748
