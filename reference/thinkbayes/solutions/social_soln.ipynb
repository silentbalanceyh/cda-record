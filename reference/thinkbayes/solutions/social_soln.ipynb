version https://git-lfs.github.com/spec/v1
oid sha256:99a34e9c6d4c4cb316cf3f54a7a19949ed9d6b4677474b45e3a78670eadd410e
size 78252
