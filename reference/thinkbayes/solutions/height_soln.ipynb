version https://git-lfs.github.com/spec/v1
oid sha256:091185626fd262b04c44c75d6cb9e244eb98a24838cafc163e751d1e2f647577
size 208066
