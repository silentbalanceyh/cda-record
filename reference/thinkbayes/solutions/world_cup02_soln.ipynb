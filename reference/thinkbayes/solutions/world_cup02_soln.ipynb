version https://git-lfs.github.com/spec/v1
oid sha256:31767a745aaec774e56e15ca612ab6674cd61b2e61b2a4ca4bc0f05390a7897d
size 84460
