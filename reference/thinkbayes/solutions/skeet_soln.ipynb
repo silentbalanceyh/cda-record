version https://git-lfs.github.com/spec/v1
oid sha256:c2e05d4a06b0093d880fe097ecb28a0aa67fc0eb4b31aecfad28d7887506edec
size 36354
