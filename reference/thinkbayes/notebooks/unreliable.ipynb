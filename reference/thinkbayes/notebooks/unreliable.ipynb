version https://git-lfs.github.com/spec/v1
oid sha256:e5ec681503a8e115a9e7edb54e193c12dee0b10bcb82cbf0cab5daadb8bd6e66
size 5799
