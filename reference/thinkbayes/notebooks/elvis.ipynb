version https://git-lfs.github.com/spec/v1
oid sha256:77f935ce7b06f1ad58d8d956ba1f14c4bec520d7b1f6ca525a8cf887e86bf66e
size 2136
