version https://git-lfs.github.com/spec/v1
oid sha256:c6e286d8e4ad2317a248faf5f88fadebb24e300826b11b37da84230cd4fbb39c
size 18459
