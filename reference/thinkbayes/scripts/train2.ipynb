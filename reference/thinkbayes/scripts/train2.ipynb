version https://git-lfs.github.com/spec/v1
oid sha256:cb110294bf826dc2bfb6ad431bb60144f37a8cb2418bb1471f94e8300b85fe3f
size 2731
