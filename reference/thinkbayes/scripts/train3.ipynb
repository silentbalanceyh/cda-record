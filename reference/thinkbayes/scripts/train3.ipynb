version https://git-lfs.github.com/spec/v1
oid sha256:9d8ff2b364d22d9918526703b709c51d4ef7ffd2492ed36872591584c9b5aaec
size 4875
