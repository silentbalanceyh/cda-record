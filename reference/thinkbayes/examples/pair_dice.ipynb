version https://git-lfs.github.com/spec/v1
oid sha256:cdca2a05d10a2f36540531c2f7d5af3faa8be5797d866359d42d9ff35555220b
size 33901
