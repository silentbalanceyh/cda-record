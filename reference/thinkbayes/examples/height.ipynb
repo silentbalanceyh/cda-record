version https://git-lfs.github.com/spec/v1
oid sha256:5d171c69eb9b9339862d13e17c9edc01389ba7ea0c6e22cc028a38de867c630e
size 8750
