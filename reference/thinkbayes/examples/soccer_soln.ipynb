version https://git-lfs.github.com/spec/v1
oid sha256:321be19dc6e88c0eb0949a214091aadcf98a60942feab1ccfd672929c34aee6e
size 83333
