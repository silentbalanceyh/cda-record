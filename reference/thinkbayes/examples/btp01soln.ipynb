version https://git-lfs.github.com/spec/v1
oid sha256:917096bbc247cc65f0389b0a432cb1f8e7bcd2a7306926be59eb4246c5714d6b
size 48113
