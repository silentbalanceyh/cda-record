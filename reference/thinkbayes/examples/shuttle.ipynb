version https://git-lfs.github.com/spec/v1
oid sha256:ca2707324bd6a3af68b3f3e1156b1957b8ff741a1a9488ca36ecedcb7c3a1047
size 7987
