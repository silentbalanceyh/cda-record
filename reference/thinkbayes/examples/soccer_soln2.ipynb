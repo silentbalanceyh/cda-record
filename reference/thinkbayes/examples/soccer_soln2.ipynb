version https://git-lfs.github.com/spec/v1
oid sha256:7db99714a15451de40d8fd3a41aec7290ac79f175252ea36a5ca1d703de582c1
size 61333
