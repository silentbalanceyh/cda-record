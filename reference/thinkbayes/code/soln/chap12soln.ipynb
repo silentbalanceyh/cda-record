version https://git-lfs.github.com/spec/v1
oid sha256:13edf1a9f7bde9694bf591710312f14e8e3fe9141d36539dd7f9f42203ae97a0
size 10041
