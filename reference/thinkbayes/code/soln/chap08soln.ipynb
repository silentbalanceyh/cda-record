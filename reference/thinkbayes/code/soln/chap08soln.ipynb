version https://git-lfs.github.com/spec/v1
oid sha256:ccc67cdb71ab0786c06239983ac1e70f05e49f13b16c4bc562a805bd84adb9fe
size 379722
