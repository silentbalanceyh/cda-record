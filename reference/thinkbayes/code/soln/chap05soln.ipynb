version https://git-lfs.github.com/spec/v1
oid sha256:f2ad297ace48717d032e545613ea04d81db6aaee4edbc2e6fc1b763c3e41165c
size 32858
