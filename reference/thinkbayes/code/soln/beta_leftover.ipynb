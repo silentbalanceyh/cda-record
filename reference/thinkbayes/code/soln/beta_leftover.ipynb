version https://git-lfs.github.com/spec/v1
oid sha256:2d9a9baa71ac005ed8b1f4ace3023a6daf3d56a84d336d87e3daf459c05db8cf
size 91611
