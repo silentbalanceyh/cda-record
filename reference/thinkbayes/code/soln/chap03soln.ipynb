version https://git-lfs.github.com/spec/v1
oid sha256:8833d3d98fe30a97cca7d0e1d9b5778f8a5fb0bcc05876b785b28bd4add1f832
size 264481
