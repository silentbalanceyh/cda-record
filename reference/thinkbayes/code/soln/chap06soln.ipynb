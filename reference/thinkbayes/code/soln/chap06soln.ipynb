version https://git-lfs.github.com/spec/v1
oid sha256:0e9bfbb127f02aa800805941ba44df095f6ab9417fc5dbc7ea53b10dcc074d39
size 277815
