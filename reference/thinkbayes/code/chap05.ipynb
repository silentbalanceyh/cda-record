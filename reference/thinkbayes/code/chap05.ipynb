version https://git-lfs.github.com/spec/v1
oid sha256:d363ed83252582554e357041e9cd489a97df87e24d7ea5e80bd84136df97c284
size 23346
