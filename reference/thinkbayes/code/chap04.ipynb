version https://git-lfs.github.com/spec/v1
oid sha256:4bee2c445f752a2abe65c74dbc9d783c09f464054370afe0d8ac814498eb9059
size 30764
