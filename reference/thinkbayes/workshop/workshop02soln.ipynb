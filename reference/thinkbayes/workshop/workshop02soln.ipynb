version https://git-lfs.github.com/spec/v1
oid sha256:659e916c970e1ea913b58c8d35b2dc1b26d3eed418789cf8f656efc5c3bf0e38
size 13088
