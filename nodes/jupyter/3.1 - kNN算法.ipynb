version https://git-lfs.github.com/spec/v1
oid sha256:62755591da53a8cad1821a5bc827d6d2b204035efacd59d75268aeaba76b2f20
size 394837
